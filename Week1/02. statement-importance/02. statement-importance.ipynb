{
 "cells": [
  {
   "cell_type": "code",
   "execution_count": 1,
   "metadata": {
    "collapsed": true
   },
   "outputs": [],
   "source": [
    "import pandas"
   ]
  },
  {
   "cell_type": "code",
   "execution_count": 2,
   "metadata": {
    "collapsed": true
   },
   "outputs": [],
   "source": [
    "data = pandas.read_csv(r\"D:\\Programming\\Python\\mlc\\Coursera\\Week1\\titanic.csv\", index_col = 'PassengerId')"
   ]
  },
  {
   "cell_type": "code",
   "execution_count": 3,
   "metadata": {},
   "outputs": [
    {
     "name": "stdout",
     "output_type": "stream",
     "text": [
      "<class 'pandas.core.frame.DataFrame'>\n",
      "Int64Index: 891 entries, 1 to 891\n",
      "Data columns (total 11 columns):\n",
      "Survived    891 non-null int64\n",
      "Pclass      891 non-null int64\n",
      "Name        891 non-null object\n",
      "Sex         891 non-null object\n",
      "Age         714 non-null float64\n",
      "SibSp       891 non-null int64\n",
      "Parch       891 non-null int64\n",
      "Ticket      891 non-null object\n",
      "Fare        891 non-null float64\n",
      "Cabin       204 non-null object\n",
      "Embarked    889 non-null object\n",
      "dtypes: float64(2), int64(4), object(5)\n",
      "memory usage: 83.5+ KB\n"
     ]
    }
   ],
   "source": [
    "data.info()"
   ]
  },
  {
   "cell_type": "code",
   "execution_count": 36,
   "metadata": {},
   "outputs": [
    {
     "data": {
      "text/plain": [
       "male      577\n",
       "female    314\n",
       "Name: Sex, dtype: int64"
      ]
     },
     "execution_count": 36,
     "metadata": {},
     "output_type": "execute_result"
    }
   ],
   "source": [
    "data['Sex'].value_counts()\n"
   ]
  },
  {
   "cell_type": "code",
   "execution_count": 46,
   "metadata": {},
   "outputs": [
    {
     "name": "stdout",
     "output_type": "stream",
     "text": [
      "0    549\n",
      "1    342\n",
      "Name: Survived, dtype: int64\n",
      "38.3838383838\n"
     ]
    }
   ],
   "source": [
    "num_surv = data['Survived'].value_counts()\n",
    "print(num_surv)\n",
    "print(num_surv[1]/data.shape[0] * 100)"
   ]
  },
  {
   "cell_type": "code",
   "execution_count": 60,
   "metadata": {},
   "outputs": [
    {
     "data": {
      "text/plain": [
       "24.242424242424242"
      ]
     },
     "execution_count": 60,
     "metadata": {},
     "output_type": "execute_result"
    }
   ],
   "source": [
    "data['Pclass'].value_counts()[1] / data.shape[0] * 100\n"
   ]
  },
  {
   "cell_type": "code",
   "execution_count": 30,
   "metadata": {},
   "outputs": [
    {
     "name": "stdout",
     "output_type": "stream",
     "text": [
      "29.69911764705882\n",
      "28.0\n"
     ]
    }
   ],
   "source": [
    "age_mean = data[\"Age\"].mean(axis=0)\n",
    "print(age_mean)\n",
    "age_median = data[\"Age\"].median(axis=0)\n",
    "print(age_median)"
   ]
  },
  {
   "cell_type": "code",
   "execution_count": 32,
   "metadata": {},
   "outputs": [
    {
     "name": "stdout",
     "output_type": "stream",
     "text": [
      "5 0.41\n"
     ]
    }
   ],
   "source": [
    "corr = data['SibSp'].corr(data['Parch'])\n",
    "print(5, \"{:0.2f}\".format(corr))"
   ]
  },
  {
   "cell_type": "code",
   "execution_count": 35,
   "metadata": {},
   "outputs": [
    {
     "name": "stdout",
     "output_type": "stream",
     "text": [
      "Nye, Mrs. (Elizabeth Ramell)                          1\n",
      "Crosby, Miss. Harriet R                               1\n",
      "Milling, Mr. Jacob Christian                          1\n",
      "Jensen, Mr. Niels Peder                               1\n",
      "Maioni, Miss. Roberta                                 1\n",
      "Thayer, Mr. John Borland Jr                           1\n",
      "Attalah, Miss. Malake                                 1\n",
      "Braund, Mr. Lewis Richard                             1\n",
      "Pekoniemi, Mr. Edvard                                 1\n",
      "Landergren, Miss. Aurora Adelia                       1\n",
      "Danbom, Mr. Ernst Gilbert                             1\n",
      "Woolner, Mr. Hugh                                     1\n",
      "Lindqvist, Mr. Eino William                           1\n",
      "Rouse, Mr. Richard Henry                              1\n",
      "Nicholson, Mr. Arthur Ernest                          1\n",
      "West, Mr. Edwy Arthur                                 1\n",
      "Frost, Mr. Anthony Wood \"Archie\"                      1\n",
      "Smith, Mr. Thomas                                     1\n",
      "Jussila, Miss. Katriina                               1\n",
      "Calderhead, Mr. Edward Pennington                     1\n",
      "Salonen, Mr. Johan Werner                             1\n",
      "Johnson, Mr. Alfred                                   1\n",
      "Icard, Miss. Amelie                                   1\n",
      "Flynn, Mr. James                                      1\n",
      "van Billiard, Mr. Austin Blyler                       1\n",
      "Simonius-Blumer, Col. Oberst Alfons                   1\n",
      "Johnson, Mr. Malkolm Joackim                          1\n",
      "Beane, Mrs. Edward (Ethel Clarke)                     1\n",
      "Asplund, Master. Clarence Gustaf Hugo                 1\n",
      "Mitkoff, Mr. Mito                                     1\n",
      "                                                     ..\n",
      "Chapman, Mr. John Henry                               1\n",
      "Vande Walle, Mr. Nestor Cyriel                        1\n",
      "Healy, Miss. Hanora \"Nora\"                            1\n",
      "Van Impe, Mr. Jean Baptiste                           1\n",
      "Coutts, Master. William Loch \"William\"                1\n",
      "Alexander, Mr. William                                1\n",
      "Jensen, Mr. Svend Lauritz                             1\n",
      "Webber, Miss. Susan                                   1\n",
      "Ayoub, Miss. Banoura                                  1\n",
      "Abelson, Mrs. Samuel (Hannah Wizosky)                 1\n",
      "de Mulder, Mr. Theodore                               1\n",
      "Zimmerman, Mr. Leo                                    1\n",
      "Hamalainen, Mrs. William (Anna)                       1\n",
      "Johnson, Mr. William Cahoone Jr                       1\n",
      "Boulos, Mrs. Joseph (Sultana)                         1\n",
      "Olsen, Mr. Karl Siegwart Andreas                      1\n",
      "Hart, Mrs. Benjamin (Esther Ada Bloomfield)           1\n",
      "Sivola, Mr. Antti Wilhelm                             1\n",
      "Seward, Mr. Frederic Kimber                           1\n",
      "Lefebre, Miss. Mathilde                               1\n",
      "Kink, Mr. Vincenz                                     1\n",
      "Stephenson, Mrs. Walter Bertram (Martha Eustis)       1\n",
      "Lindell, Mr. Edvard Bengtsson                         1\n",
      "Downton, Mr. William James                            1\n",
      "Sage, Master. Thomas Henry                            1\n",
      "West, Mrs. Edwy Arthur (Ada Mary Worth)               1\n",
      "Panula, Master. Urho Abraham                          1\n",
      "Lindblom, Miss. Augusta Charlotta                     1\n",
      "Moran, Miss. Bertha                                   1\n",
      "Hays, Mrs. Charles Melville (Clara Jennings Gregg)    1\n",
      "Name: Name, Length: 891, dtype: int64\n"
     ]
    }
   ],
   "source": [
    "name = data['Name'].value_counts()\n",
    "print(name)"
   ]
  },
  {
   "cell_type": "code",
   "execution_count": null,
   "metadata": {
    "collapsed": true
   },
   "outputs": [],
   "source": []
  }
 ],
 "metadata": {
  "kernelspec": {
   "display_name": "Python 3",
   "language": "python",
   "name": "python3"
  },
  "language_info": {
   "codemirror_mode": {
    "name": "ipython",
    "version": 3
   },
   "file_extension": ".py",
   "mimetype": "text/x-python",
   "name": "python",
   "nbconvert_exporter": "python",
   "pygments_lexer": "ipython3",
   "version": "3.6.3"
  }
 },
 "nbformat": 4,
 "nbformat_minor": 2
}
